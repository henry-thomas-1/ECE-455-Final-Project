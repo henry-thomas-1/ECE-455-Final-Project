{
 "cells": [
  {
   "cell_type": "code",
   "execution_count": 41,
   "id": "5023a745",
   "metadata": {},
   "outputs": [],
   "source": [
    "import numpy as np\n",
    "import matplotlib.pyplot as plt\n",
    "from ipywidgets import interact, Dropdown, IntSlider, FloatSlider, VBox, interactive_output\n",
    "from scipy.special import genlaguerre\n",
    "from scipy.special import jv, yn, iv, kv\n",
    "\n",
    "\n",
    "def hermite_gaussian(m, n, x, y, w0):\n",
    "    Hm = np.polynomial.hermite.hermval(x / w0, [0] * m + [1])  # Hermite polynomial of degree m\n",
    "    Hn = np.polynomial.hermite.hermval(y / w0, [0] * n + [1])  # Hermite polynomial of degree n\n",
    "    envelope = np.exp(-(x**2 + y**2) / w0**2)  # Gaussian envelope\n",
    "    intensity = (envelope * Hm * Hn) ** 2\n",
    "    return intensity\n",
    "\n",
    "def laguerre_gaussian(p, l, r, phi, w0):\n",
    "    radial = genlaguerre(p, np.abs(l))(2 * (r / w0)**2)\n",
    "    azimuthal = np.exp(1j * l * phi)\n",
    "    envelope = np.exp(-(r / w0)**2)\n",
    "    intensity = (envelope * r**np.abs(l) * radial * azimuthal).real**2\n",
    "    return intensity\n",
    "\n",
    "def bessel_gaussian(m, r, radial_periodicity, w0):\n",
    "    J = jv(m, 2 * np.pi * r / radial_periodicity)\n",
    "    envelope = np.exp(-(r**2) / w0**2)\n",
    "    intensity = (J * envelope) ** 2\n",
    "    return intensity\n",
    "\n"
   ]
  },
  {
   "cell_type": "code",
   "execution_count": 42,
   "id": "63b7f1c0",
   "metadata": {},
   "outputs": [
    {
     "data": {
      "application/vnd.jupyter.widget-view+json": {
       "model_id": "19a1b5e4d2674b04b3632fd84a9f5e16",
       "version_major": 2,
       "version_minor": 0
      },
      "text/plain": [
       "interactive(children=(Dropdown(description='Beam Type', options=('Hermite-Gaussian', 'Laguerre-Gaussian', 'Bes…"
      ]
     },
     "metadata": {},
     "output_type": "display_data"
    }
   ],
   "source": [
    "def plot_gaussian(mode_type, mode1, mode2, beam_waist, radial_periodicity):\n",
    "    x = np.linspace(-5, 5, 500)\n",
    "    y = np.linspace(-5, 5, 500)\n",
    "    X, Y = np.meshgrid(x, y)\n",
    "    R = np.sqrt(X**2 + Y**2)\n",
    "    Phi = np.arctan2(Y, X)\n",
    "\n",
    "    if mode_type == \"Hermite-Gaussian\":\n",
    "        intensity = hermite_gaussian(mode1, mode2, X, Y, beam_waist)\n",
    "    elif mode_type == \"Laguerre-Gaussian\":\n",
    "        intensity = laguerre_gaussian(mode1, mode2, R, Phi, beam_waist)\n",
    "    elif mode_type == \"Bessel-Gaussian\":\n",
    "        intensity = bessel_gaussian(mode1, R, radial_periodicity, beam_waist)\n",
    "    else:\n",
    "        intensity = np.exp(-(X**2 + Y**2) / beam_waist**2)  # TEM00\n",
    "\n",
    "    plt.figure(figsize=(8, 6))\n",
    "    plt.imshow(intensity, extent=(-5, 5, -5, 5), origin=\"lower\", cmap=\"viridis\")\n",
    "    plt.colorbar(label=\"Intensity\")\n",
    "    plt.title(f\"{mode_type} Mode ({mode1}, {mode2})\")\n",
    "    plt.xlabel(\"x\")\n",
    "    plt.ylabel(\"y\")\n",
    "    plt.show()\n",
    "\n",
    "# Interactive widget\n",
    "def interactive_plot():\n",
    "    interact(\n",
    "        plot_gaussian,\n",
    "        mode_type=Dropdown(\n",
    "            options=[\"Hermite-Gaussian\", \"Laguerre-Gaussian\", \"Bessel-Gaussian\", \"TEM00\"],\n",
    "            value=\"Hermite-Gaussian\",\n",
    "            description=\"Beam Type\",\n",
    "        ),\n",
    "        mode1=IntSlider(min=0, max=10, value=0, description=\"Mode 1\"),\n",
    "        mode2=IntSlider(min=0, max=10, value=0, description=\"Mode 2\"),\n",
    "        beam_waist=FloatSlider(min=0.5, max=5, step=0.1, value=1.0, description=\"Beam Waist\"),\n",
    "        radial_periodicity=FloatSlider(min=0.1, max=2.0, step=0.1, value=0.5, description=\"Radial Periodicity (Lambda):\"),\n",
    "    )\n",
    "\n",
    "interactive_plot()"
   ]
  },
  {
   "cell_type": "code",
   "execution_count": null,
   "id": "8e0450ab",
   "metadata": {},
   "outputs": [],
   "source": []
  }
 ],
 "metadata": {
  "kernelspec": {
   "display_name": "Python 3 (ipykernel)",
   "language": "python",
   "name": "python3"
  },
  "language_info": {
   "codemirror_mode": {
    "name": "ipython",
    "version": 3
   },
   "file_extension": ".py",
   "mimetype": "text/x-python",
   "name": "python",
   "nbconvert_exporter": "python",
   "pygments_lexer": "ipython3",
   "version": "3.11.4"
  }
 },
 "nbformat": 4,
 "nbformat_minor": 5
}
